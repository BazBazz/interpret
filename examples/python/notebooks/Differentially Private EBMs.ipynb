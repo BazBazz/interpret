{
 "cells": [
  {
   "cell_type": "markdown",
   "source": [
    "## Load Data"
   ],
   "metadata": {}
  },
  {
   "cell_type": "code",
   "execution_count": null,
   "source": [
    "import pandas as pd\r\n",
    "from sklearn.model_selection import train_test_split\r\n",
    "\r\n",
    "df = pd.read_csv(\r\n",
    "    \"https://archive.ics.uci.edu/ml/machine-learning-databases/adult/adult.data\",\r\n",
    "    header=None)\r\n",
    "df.columns = [\r\n",
    "    \"Age\", \"WorkClass\", \"fnlwgt\", \"Education\", \"EducationNum\",\r\n",
    "    \"MaritalStatus\", \"Occupation\", \"Relationship\", \"Race\", \"Gender\",\r\n",
    "    \"CapitalGain\", \"CapitalLoss\", \"HoursPerWeek\", \"NativeCountry\", \"Income\"\r\n",
    "]\r\n",
    "\r\n",
    "train_cols = df.columns[0:-1]\r\n",
    "label = df.columns[-1]\r\n",
    "X = df[train_cols]\r\n",
    "y = df[label].apply(lambda x: 0 if x == \" <=50K\" else 1) #Turning response into 0 and 1\r\n",
    "\r\n",
    "seed = 1\r\n",
    "X_train, X_test, y_train, y_test = train_test_split(X, y, test_size=0.20, random_state=seed)"
   ],
   "outputs": [],
   "metadata": {
    "ExecuteTime": {
     "end_time": "2021-06-07T12:42:35.379482Z",
     "start_time": "2021-06-07T12:42:32.964588Z"
    }
   }
  },
  {
   "cell_type": "markdown",
   "source": [
    "## Fit and compare DP-EBM vs. standard EBM"
   ],
   "metadata": {}
  },
  {
   "cell_type": "code",
   "execution_count": null,
   "source": [
    "from interpret.privacy import DPExplainableBoostingClassifier, ExplainableBoostingClassifier\r\n",
    "import time\r\n",
    "from sklearn.metrics import roc_auc_score, accuracy_score\r\n",
    "\r\n",
    "start = time.time()\r\n",
    "dpebm = DPExplainableBoostingClassifier(epsilon=1, delta=1e-6)\r\n",
    "_ = dpebm.fit(X_train, y_train)\r\n",
    "\r\n",
    "dp_auroc = roc_auc_score(y_test, dpebm.predict_proba(X_test)[:, 1])\r\n",
    "end = time.time()\r\n",
    "\r\n",
    "print(f\"DP EBM with eps: {dpebm.epsilon} and delta: {dpebm.delta} trained in {end - start:.2f} seconds with a test AUC of {dp_auroc:.3f}\")\r\n",
    "\r\n",
    "\r\n",
    "start = time.time()\r\n",
    "ebm = ExplainableBoostingClassifier()\r\n",
    "_ = ebm.fit(X_train, y_train)\r\n",
    "\r\n",
    "ebm_auroc = roc_auc_score(y_test, ebm.predict_proba(X_test)[:, 1])\r\n",
    "end = time.time()\r\n",
    "print(f\"EBM trained in {end - start:.2f} seconds with a test AUC of {ebm_auroc:.3f}\")"
   ],
   "outputs": [],
   "metadata": {
    "ExecuteTime": {
     "end_time": "2021-06-07T12:59:22.639473Z",
     "start_time": "2021-06-07T12:59:02.090533Z"
    }
   }
  },
  {
   "cell_type": "markdown",
   "source": [
    "## See differences in learned shape functions"
   ],
   "metadata": {}
  },
  {
   "cell_type": "code",
   "execution_count": null,
   "source": [
    "from interpret import show\r\n",
    "\r\n",
    "show(ebm.explain_global(name='Standard EBM'))\r\n",
    "show(dpebm.explain_global(name='DP EBM'))"
   ],
   "outputs": [],
   "metadata": {
    "ExecuteTime": {
     "end_time": "2021-06-07T13:00:41.074215Z",
     "start_time": "2021-06-07T13:00:40.967665Z"
    }
   }
  }
 ],
 "metadata": {
  "kernelspec": {
   "display_name": "Python [conda env:interpret-dev] *",
   "language": "python",
   "name": "conda-env-interpret-dev-py"
  },
  "language_info": {
   "codemirror_mode": {
    "name": "ipython",
    "version": 3
   },
   "file_extension": ".py",
   "mimetype": "text/x-python",
   "name": "python",
   "nbconvert_exporter": "python",
   "pygments_lexer": "ipython3",
   "version": "3.7.7"
  }
 },
 "nbformat": 4,
 "nbformat_minor": 2
}